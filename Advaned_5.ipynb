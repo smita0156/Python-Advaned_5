{
 "cells": [
  {
   "cell_type": "code",
   "execution_count": null,
   "id": "f6eabfb5-9015-48ac-9b5b-29e822bb8a8f",
   "metadata": {},
   "outputs": [],
   "source": [
    "Q1. What is the meaning of multiple inheritance?"
   ]
  },
  {
   "cell_type": "code",
   "execution_count": null,
   "id": "ba5f08bd-87de-4d12-bc1e-0ac6c2952407",
   "metadata": {},
   "outputs": [],
   "source": [
    "A class can be derived from more than one superclass in Python. This is called multiple inheritance. For example, A class Bat is derived from superclasses Mammal and WingedAnimal . It makes sense because bat is a mammal as well as a winged animal."
   ]
  },
  {
   "cell_type": "code",
   "execution_count": null,
   "id": "8fb73e5c-4466-41dc-afda-68243bcfd151",
   "metadata": {},
   "outputs": [],
   "source": [
    "Q2. What is the concept of delegation?"
   ]
  },
  {
   "cell_type": "code",
   "execution_count": null,
   "id": "05d3a9e8-cab8-4462-adfc-519a22ac6001",
   "metadata": {},
   "outputs": [],
   "source": [
    "Delegation is a design pattern that allows objects to collaborate with each other in a flexible and dynamic way. Delegation can be implemented in Python by defining a class that contains a reference to another object and delegates method calls to that object."
   ]
  },
  {
   "cell_type": "code",
   "execution_count": null,
   "id": "a4da1db9-7fc6-47d4-b7b8-07fd07de349b",
   "metadata": {},
   "outputs": [],
   "source": [
    "Q3. What is the concept of composition?"
   ]
  },
  {
   "cell_type": "code",
   "execution_count": null,
   "id": "18438ca9-35c5-443d-990d-88077f8ac23d",
   "metadata": {},
   "outputs": [],
   "source": [
    "The design technique in object-oriented programming to implement has-a relationship between objects."
   ]
  },
  {
   "cell_type": "code",
   "execution_count": null,
   "id": "bf0002b4-0753-437d-ac04-038e66a4f553",
   "metadata": {},
   "outputs": [],
   "source": [
    "The way of combining two or more functions in such a way that the output of one function becomes the input of the second function and so on."
   ]
  },
  {
   "cell_type": "code",
   "execution_count": null,
   "id": "d52c1b6a-e093-46e8-b96f-487830e4a8fa",
   "metadata": {},
   "outputs": [],
   "source": [
    "Q4. What are bound methods and how do we use them?"
   ]
  },
  {
   "cell_type": "code",
   "execution_count": null,
   "id": "f496d565-fd22-4ed0-8d0c-1fe734c0f464",
   "metadata": {},
   "outputs": [],
   "source": [
    "A bound method in Python is the method that has an object associated with it. Unbound method doesn't have an object associated with it. The concept of “unbound methods” has been removed from the language as of 3.0. When referencing a method as a class attribute, you now get a plain function object."
   ]
  },
  {
   "cell_type": "code",
   "execution_count": null,
   "id": "ee674af9-22ea-414d-a248-76b673a17121",
   "metadata": {},
   "outputs": [],
   "source": [
    "Q5. What is the purpose of pseudoprivate attributes?"
   ]
  },
  {
   "cell_type": "code",
   "execution_count": null,
   "id": "8ae56e62-d3fd-4a4b-b308-1673744969de",
   "metadata": {},
   "outputs": [],
   "source": [
    "To prevent accidental overriding of an attribute in your class if someone wants to inherit from your class."
   ]
  },
  {
   "cell_type": "code",
   "execution_count": null,
   "id": "57f14d54-ac29-4d4a-88ae-13c2085c01fc",
   "metadata": {},
   "outputs": [],
   "source": []
  },
  {
   "cell_type": "code",
   "execution_count": null,
   "id": "009c05ef-ef9d-46cf-8642-af58c2751b96",
   "metadata": {},
   "outputs": [],
   "source": []
  },
  {
   "cell_type": "code",
   "execution_count": null,
   "id": "eabe0c2b-1b5e-47be-bc18-b7d2548b9cba",
   "metadata": {},
   "outputs": [],
   "source": []
  }
 ],
 "metadata": {
  "kernelspec": {
   "display_name": "Python 3 (ipykernel)",
   "language": "python",
   "name": "python3"
  },
  "language_info": {
   "codemirror_mode": {
    "name": "ipython",
    "version": 3
   },
   "file_extension": ".py",
   "mimetype": "text/x-python",
   "name": "python",
   "nbconvert_exporter": "python",
   "pygments_lexer": "ipython3",
   "version": "3.10.6"
  }
 },
 "nbformat": 4,
 "nbformat_minor": 5
}
